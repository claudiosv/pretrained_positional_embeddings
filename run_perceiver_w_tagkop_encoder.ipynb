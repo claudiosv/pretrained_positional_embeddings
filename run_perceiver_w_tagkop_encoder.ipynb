{
 "cells": [
  {
   "cell_type": "code",
   "execution_count": 1,
   "metadata": {},
   "outputs": [
    {
     "name": "stderr",
     "output_type": "stream",
     "text": [
      "Found cached dataset cifar10 (/Users/stefanbroecker/.cache/huggingface/datasets/cifar10/plain_text/1.0.0/447d6ec4733dddd1ce3bb577c7166b986eaa4c538dcd9e805ba61f35674a9de4)\n"
     ]
    },
    {
     "data": {
      "application/vnd.jupyter.widget-view+json": {
       "model_id": "acd80622d9c146f19af73a07d7a56bbb",
       "version_major": 2,
       "version_minor": 0
      },
      "text/plain": [
       "  0%|          | 0/2 [00:00<?, ?it/s]"
      ]
     },
     "metadata": {},
     "output_type": "display_data"
    }
   ],
   "source": [
    "from datasets import load_dataset\n",
    "from transformers import PerceiverFeatureExtractor\n",
    "from torch.utils.data import DataLoader\n",
    "import torch\n",
    "device = torch.device(\"cpu\")\n",
    "\n",
    "# load cifar10 (only small portion for demonstration purposes) \n",
    "train_ds, test_ds = load_dataset('cifar10', split=['train[:1000]', 'test[:100]'])\n",
    "# split up training into training + validation\n",
    "splits = train_ds.train_test_split(test_size=0.1)\n",
    "train_ds = splits['train']\n",
    "val_ds = splits['test']\n",
    "\n",
    "id2label = {idx:label for idx,label in enumerate(train_ds.features['label'].names)}\n",
    "label2id = {label:idx for idx, label in id2label.items()}\n",
    "\n",
    "feature_extractor = PerceiverFeatureExtractor()\n",
    "\n",
    "def preprocess_images(examples):\n",
    "    examples['pixel_values'] = feature_extractor(examples['img'], return_tensors=\"pt\").pixel_values\n",
    "    return examples\n",
    "\n",
    "# Set the transforms\n",
    "train_ds.set_transform(preprocess_images)\n",
    "val_ds.set_transform(preprocess_images)\n",
    "test_ds.set_transform(preprocess_images)\n",
    "\n",
    "def collate_fn(examples):\n",
    "    pixel_values = torch.stack([example[\"pixel_values\"] for example in examples])\n",
    "    labels = torch.tensor([example[\"label\"] for example in examples])\n",
    "    return {\"pixel_values\": pixel_values, \"labels\": labels}\n",
    "\n",
    "train_batch_size = 10\n",
    "eval_batch_size = 10\n",
    "\n",
    "train_dataloader = DataLoader(train_ds, shuffle=True, collate_fn=collate_fn, batch_size=train_batch_size)\n",
    "val_dataloader = DataLoader(val_ds, collate_fn=collate_fn, batch_size=eval_batch_size)\n",
    "test_dataloader = DataLoader(test_ds, collate_fn=collate_fn, batch_size=eval_batch_size)"
   ]
  },
  {
   "cell_type": "code",
   "execution_count": 2,
   "metadata": {},
   "outputs": [
    {
     "name": "stdout",
     "output_type": "stream",
     "text": [
      "224\n"
     ]
    }
   ],
   "source": [
    "import numpy as np\n",
    "\n",
    "# t = next(iter(train_dataloader))[\"pixel_values\"]\n",
    "\n",
    "# torch.mean(t, dim=1).unsqueeze(1).shape\n",
    "\n",
    "# torch.flatten(torch.mean(t, dim=1).unsqueeze(1), start_dim=2).shape"
   ]
  },
  {
   "cell_type": "code",
   "execution_count": 11,
   "metadata": {},
   "outputs": [
    {
     "name": "stdout",
     "output_type": "stream",
     "text": [
      "The autoreload extension is already loaded. To reload it, use:\n",
      "  %reload_ext autoreload\n"
     ]
    }
   ],
   "source": [
    "# preprocessor we customized to use the tagkop encoder\n",
    "from tagkop_encoding_functions import (\n",
    "    PerceiverImagePreprocessor\n",
    ")\n",
    "# perceiver modules from hugging face\n",
    "from transformers.models.perceiver.modeling_perceiver import (\n",
    "    PerceiverConfig,\n",
    "    PerceiverModel,\n",
    "    PerceiverClassificationDecoder\n",
    ")\n",
    "%load_ext autoreload\n",
    "%autoreload 2"
   ]
  },
  {
   "cell_type": "code",
   "execution_count": 12,
   "metadata": {},
   "outputs": [
    {
     "name": "stdout",
     "output_type": "stream",
     "text": [
      "model:  PerceiverModel(\n",
      "  (input_preprocessor): PerceiverImagePreprocessor(\n",
      "    (convnet_1x1): Conv2d(1, 64, kernel_size=(1, 1), stride=(1, 1))\n",
      "    (position_embeddings): PerceiverTagkopPositionEncoding()\n",
      "    (positions_projection): Linear(in_features=64, out_features=64, bias=True)\n",
      "    (conv_after_patches): Identity()\n",
      "  )\n",
      "  (embeddings): PerceiverEmbeddings()\n",
      "  (encoder): PerceiverEncoder(\n",
      "    (cross_attention): PerceiverLayer(\n",
      "      (attention): PerceiverAttention(\n",
      "        (self): PerceiverSelfAttention(\n",
      "          (layernorm1): LayerNorm((1280,), eps=1e-05, elementwise_affine=True)\n",
      "          (layernorm2): LayerNorm((128,), eps=1e-05, elementwise_affine=True)\n",
      "          (query): Linear(in_features=1280, out_features=128, bias=True)\n",
      "          (key): Linear(in_features=128, out_features=128, bias=True)\n",
      "          (value): Linear(in_features=128, out_features=128, bias=True)\n",
      "          (dropout): Dropout(p=0.1, inplace=False)\n",
      "        )\n",
      "        (output): PerceiverSelfOutput(\n",
      "          (dense): Linear(in_features=128, out_features=1280, bias=True)\n",
      "        )\n",
      "      )\n",
      "      (layernorm): LayerNorm((1280,), eps=1e-05, elementwise_affine=True)\n",
      "      (mlp): PerceiverMLP(\n",
      "        (dense1): Linear(in_features=1280, out_features=1280, bias=True)\n",
      "        (intermediate_act_fn): GELUActivation()\n",
      "        (dense2): Linear(in_features=1280, out_features=1280, bias=True)\n",
      "      )\n",
      "    )\n",
      "    (self_attends): ModuleList(\n",
      "      (0): PerceiverLayer(\n",
      "        (attention): PerceiverAttention(\n",
      "          (self): PerceiverSelfAttention(\n",
      "            (layernorm1): LayerNorm((1280,), eps=1e-05, elementwise_affine=True)\n",
      "            (layernorm2): Identity()\n",
      "            (query): Linear(in_features=1280, out_features=1280, bias=True)\n",
      "            (key): Linear(in_features=1280, out_features=1280, bias=True)\n",
      "            (value): Linear(in_features=1280, out_features=1280, bias=True)\n",
      "            (dropout): Dropout(p=0.1, inplace=False)\n",
      "          )\n",
      "          (output): PerceiverSelfOutput(\n",
      "            (dense): Linear(in_features=1280, out_features=1280, bias=True)\n",
      "          )\n",
      "        )\n",
      "        (layernorm): LayerNorm((1280,), eps=1e-05, elementwise_affine=True)\n",
      "        (mlp): PerceiverMLP(\n",
      "          (dense1): Linear(in_features=1280, out_features=1280, bias=True)\n",
      "          (intermediate_act_fn): GELUActivation()\n",
      "          (dense2): Linear(in_features=1280, out_features=1280, bias=True)\n",
      "        )\n",
      "      )\n",
      "    )\n",
      "  )\n",
      "  (decoder): PerceiverClassificationDecoder(\n",
      "    (decoder): PerceiverBasicDecoder(\n",
      "      (output_position_encodings): PerceiverTrainablePositionEncoding()\n",
      "      (positions_projection): Identity()\n",
      "      (decoding_cross_attention): PerceiverLayer(\n",
      "        (attention): PerceiverAttention(\n",
      "          (self): PerceiverSelfAttention(\n",
      "            (layernorm1): LayerNorm((1280,), eps=1e-05, elementwise_affine=True)\n",
      "            (layernorm2): LayerNorm((1280,), eps=1e-05, elementwise_affine=True)\n",
      "            (query): Linear(in_features=1280, out_features=1280, bias=True)\n",
      "            (key): Linear(in_features=1280, out_features=1280, bias=True)\n",
      "            (value): Linear(in_features=1280, out_features=1280, bias=True)\n",
      "            (dropout): Dropout(p=0.1, inplace=False)\n",
      "          )\n",
      "          (output): PerceiverSelfOutput(\n",
      "            (dense): Linear(in_features=1280, out_features=1280, bias=True)\n",
      "          )\n",
      "        )\n",
      "        (layernorm): LayerNorm((1280,), eps=1e-05, elementwise_affine=True)\n",
      "        (mlp): PerceiverMLP(\n",
      "          (dense1): Linear(in_features=1280, out_features=1280, bias=True)\n",
      "          (intermediate_act_fn): GELUActivation()\n",
      "          (dense2): Linear(in_features=1280, out_features=1280, bias=True)\n",
      "        )\n",
      "      )\n",
      "      (final_layer): Linear(in_features=1280, out_features=10, bias=True)\n",
      "    )\n",
      "  )\n",
      ")\n"
     ]
    }
   ],
   "source": [
    "config = PerceiverConfig(image_size=224,\n",
    "                        num_self_attends_per_block = 1,\n",
    "                        num_cross_attention_heads = 1,\n",
    "                        use_labels=True,\n",
    "                        num_labels=10,\n",
    "                        num_latents=64,\n",
    "                        id2label=id2label,\n",
    "                        label2id=label2id,\n",
    "                        ignore_mismatched_sizes=True\n",
    "                        )\n",
    "\n",
    "preprocessor = PerceiverImagePreprocessor(\n",
    "    config,\n",
    "    prep_type=\"conv1x1\",\n",
    "    spatial_downsample=1,\n",
    "    out_channels=64,\n",
    "    position_encoding_type=\"tagkop\",\n",
    "    concat_or_add_pos=\"concat\",\n",
    "    project_pos_dim=64,\n",
    "    tagkop_position_encoding_kwargs=dict(\n",
    "        num_channels=64,\n",
    "        index_dims=config.image_size**2,\n",
    "    ),\n",
    ")\n",
    "\n",
    "modely = PerceiverModel(\n",
    "    config,\n",
    "    input_preprocessor=preprocessor,\n",
    "    decoder=PerceiverClassificationDecoder(\n",
    "        config,\n",
    "        num_channels=config.d_latents,\n",
    "        trainable_position_encoding_kwargs=dict(num_channels=config.d_latents, index_dims=1),\n",
    "        use_query_residual=True,\n",
    "    ),\n",
    ")\n",
    "\n",
    "modely.to(device)\n",
    "\n",
    "print('model: ', modely)"
   ]
  },
  {
   "cell_type": "code",
   "execution_count": 13,
   "metadata": {},
   "outputs": [
    {
     "name": "stdout",
     "output_type": "stream",
     "text": [
      "Epoch: 0\n"
     ]
    },
    {
     "data": {
      "application/vnd.jupyter.widget-view+json": {
       "model_id": "c68435aacae645089c76e3b3234fd6fb",
       "version_major": 2,
       "version_minor": 0
      },
      "text/plain": [
       "  0%|          | 0/90 [00:00<?, ?it/s]"
      ]
     },
     "metadata": {},
     "output_type": "display_data"
    },
    {
     "name": "stdout",
     "output_type": "stream",
     "text": [
      "Shit, something went wrong in generate_tagkop_features\n",
      "torch.Size([50176, 64])\n",
      "Loss: nan, Accuracy: 0.3\n",
      "Shit, something went wrong in generate_tagkop_features\n",
      "torch.Size([50176, 64])\n",
      "Loss: nan, Accuracy: 0.0\n",
      "Shit, something went wrong in generate_tagkop_features\n",
      "torch.Size([50176, 64])\n",
      "Loss: nan, Accuracy: 0.0\n",
      "Shit, something went wrong in generate_tagkop_features\n",
      "torch.Size([50176, 64])\n",
      "Loss: nan, Accuracy: 0.0\n",
      "Shit, something went wrong in generate_tagkop_features\n",
      "torch.Size([50176, 64])\n"
     ]
    },
    {
     "ename": "KeyboardInterrupt",
     "evalue": "",
     "output_type": "error",
     "traceback": [
      "\u001b[0;31m---------------------------------------------------------------------------\u001b[0m",
      "\u001b[0;31mKeyboardInterrupt\u001b[0m                         Traceback (most recent call last)",
      "\u001b[1;32m/Users/stefanbroecker/Documents/ECS289G/pretrained_positional_embeddings/run_perceiver_w_tagkop_encoder.ipynb Cell 5\u001b[0m in \u001b[0;36m<cell line: 8>\u001b[0;34m()\u001b[0m\n\u001b[1;32m     <a href='vscode-notebook-cell:/Users/stefanbroecker/Documents/ECS289G/pretrained_positional_embeddings/run_perceiver_w_tagkop_encoder.ipynb#W4sZmlsZQ%3D%3D?line=22'>23</a>\u001b[0m criterion \u001b[39m=\u001b[39m torch\u001b[39m.\u001b[39mnn\u001b[39m.\u001b[39mCrossEntropyLoss()\n\u001b[1;32m     <a href='vscode-notebook-cell:/Users/stefanbroecker/Documents/ECS289G/pretrained_positional_embeddings/run_perceiver_w_tagkop_encoder.ipynb#W4sZmlsZQ%3D%3D?line=24'>25</a>\u001b[0m loss \u001b[39m=\u001b[39m criterion(logits, labels)\n\u001b[0;32m---> <a href='vscode-notebook-cell:/Users/stefanbroecker/Documents/ECS289G/pretrained_positional_embeddings/run_perceiver_w_tagkop_encoder.ipynb#W4sZmlsZQ%3D%3D?line=25'>26</a>\u001b[0m loss\u001b[39m.\u001b[39;49mbackward()\n\u001b[1;32m     <a href='vscode-notebook-cell:/Users/stefanbroecker/Documents/ECS289G/pretrained_positional_embeddings/run_perceiver_w_tagkop_encoder.ipynb#W4sZmlsZQ%3D%3D?line=26'>27</a>\u001b[0m optimizer\u001b[39m.\u001b[39mstep()\n\u001b[1;32m     <a href='vscode-notebook-cell:/Users/stefanbroecker/Documents/ECS289G/pretrained_positional_embeddings/run_perceiver_w_tagkop_encoder.ipynb#W4sZmlsZQ%3D%3D?line=28'>29</a>\u001b[0m predictions \u001b[39m=\u001b[39m outputs\u001b[39m.\u001b[39mlogits\u001b[39m.\u001b[39margmax(\u001b[39m-\u001b[39m\u001b[39m1\u001b[39m)\u001b[39m.\u001b[39mcpu()\u001b[39m.\u001b[39mdetach()\u001b[39m.\u001b[39mnumpy()\n",
      "File \u001b[0;32m/usr/local/lib/python3.9/site-packages/torch/_tensor.py:363\u001b[0m, in \u001b[0;36mTensor.backward\u001b[0;34m(self, gradient, retain_graph, create_graph, inputs)\u001b[0m\n\u001b[1;32m    354\u001b[0m \u001b[39mif\u001b[39;00m has_torch_function_unary(\u001b[39mself\u001b[39m):\n\u001b[1;32m    355\u001b[0m     \u001b[39mreturn\u001b[39;00m handle_torch_function(\n\u001b[1;32m    356\u001b[0m         Tensor\u001b[39m.\u001b[39mbackward,\n\u001b[1;32m    357\u001b[0m         (\u001b[39mself\u001b[39m,),\n\u001b[0;32m   (...)\u001b[0m\n\u001b[1;32m    361\u001b[0m         create_graph\u001b[39m=\u001b[39mcreate_graph,\n\u001b[1;32m    362\u001b[0m         inputs\u001b[39m=\u001b[39minputs)\n\u001b[0;32m--> 363\u001b[0m torch\u001b[39m.\u001b[39;49mautograd\u001b[39m.\u001b[39;49mbackward(\u001b[39mself\u001b[39;49m, gradient, retain_graph, create_graph, inputs\u001b[39m=\u001b[39;49minputs)\n",
      "File \u001b[0;32m/usr/local/lib/python3.9/site-packages/torch/autograd/__init__.py:173\u001b[0m, in \u001b[0;36mbackward\u001b[0;34m(tensors, grad_tensors, retain_graph, create_graph, grad_variables, inputs)\u001b[0m\n\u001b[1;32m    168\u001b[0m     retain_graph \u001b[39m=\u001b[39m create_graph\n\u001b[1;32m    170\u001b[0m \u001b[39m# The reason we repeat same the comment below is that\u001b[39;00m\n\u001b[1;32m    171\u001b[0m \u001b[39m# some Python versions print out the first line of a multi-line function\u001b[39;00m\n\u001b[1;32m    172\u001b[0m \u001b[39m# calls in the traceback and some print out the last line\u001b[39;00m\n\u001b[0;32m--> 173\u001b[0m Variable\u001b[39m.\u001b[39;49m_execution_engine\u001b[39m.\u001b[39;49mrun_backward(  \u001b[39m# Calls into the C++ engine to run the backward pass\u001b[39;49;00m\n\u001b[1;32m    174\u001b[0m     tensors, grad_tensors_, retain_graph, create_graph, inputs,\n\u001b[1;32m    175\u001b[0m     allow_unreachable\u001b[39m=\u001b[39;49m\u001b[39mTrue\u001b[39;49;00m, accumulate_grad\u001b[39m=\u001b[39;49m\u001b[39mTrue\u001b[39;49;00m)\n",
      "\u001b[0;31mKeyboardInterrupt\u001b[0m: "
     ]
    }
   ],
   "source": [
    "from torch.optim import AdamW\n",
    "from tqdm.notebook import tqdm\n",
    "from sklearn.metrics import accuracy_score\n",
    "\n",
    "optimizer = AdamW(modely.parameters(), lr=5e-5)\n",
    "\n",
    "modely.train()\n",
    "for epoch in range(10):\n",
    "    for batch in tqdm(train_dataloader):\n",
    "        # get the inputs; \n",
    "        inputs = batch[\"pixel_values\"].to(device)\n",
    "        labels = batch[\"labels\"].to(device)\n",
    "\n",
    "        # zero the parameter gradients\n",
    "        optimizer.zero_grad()\n",
    "\n",
    "        # forward + backward + optimize\n",
    "        # average the three image channels into a single channel\n",
    "        # add the channel dimension back in because the model expects it\n",
    "        outputs = modely(inputs=torch.mean(inputs, dim=1).unsqueeze(1))\n",
    "        logits = outputs.logits\n",
    "\n",
    "        criterion = torch.nn.CrossEntropyLoss()\n",
    "\n",
    "        loss = criterion(logits, labels)\n",
    "        loss.backward()\n",
    "        optimizer.step()\n",
    "\n",
    "        predictions = outputs.logits.argmax(-1).cpu().detach().numpy()\n",
    "        accuracy = accuracy_score(y_true=batch[\"labels\"].numpy(), y_pred=predictions)\n",
    "        print(f\"Loss: {loss.item()}, Accuracy: {accuracy}\")\n",
    "\n",
    "    predictions = outputs.logits.argmax(-1).cpu().detach().numpy()\n",
    "    accuracy = accuracy_score(y_true=batch[\"labels\"].numpy(), y_pred=predictions)\n",
    "    print(f\"Loss: {loss.item()}, Accuracy: {accuracy}\")\n",
    "    \n",
    "    "
   ]
  },
  {
   "cell_type": "code",
   "execution_count": null,
   "metadata": {},
   "outputs": [],
   "source": []
  },
  {
   "cell_type": "code",
   "execution_count": null,
   "metadata": {},
   "outputs": [],
   "source": []
  }
 ],
 "metadata": {
  "kernelspec": {
   "display_name": "Python 3.9.6 64-bit",
   "language": "python",
   "name": "python3"
  },
  "language_info": {
   "codemirror_mode": {
    "name": "ipython",
    "version": 3
   },
   "file_extension": ".py",
   "mimetype": "text/x-python",
   "name": "python",
   "nbconvert_exporter": "python",
   "pygments_lexer": "ipython3",
   "version": "3.9.6"
  },
  "orig_nbformat": 4,
  "vscode": {
   "interpreter": {
    "hash": "949777d72b0d2535278d3dc13498b2535136f6dfe0678499012e853ee9abcab1"
   }
  }
 },
 "nbformat": 4,
 "nbformat_minor": 2
}
