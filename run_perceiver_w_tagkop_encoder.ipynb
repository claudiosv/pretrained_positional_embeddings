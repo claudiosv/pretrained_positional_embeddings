{
 "cells": [
  {
   "cell_type": "code",
   "execution_count": 1,
   "metadata": {},
   "outputs": [
    {
     "name": "stderr",
     "output_type": "stream",
     "text": [
      "Found cached dataset cifar10 (/Users/stefanbroecker/.cache/huggingface/datasets/cifar10/plain_text/1.0.0/447d6ec4733dddd1ce3bb577c7166b986eaa4c538dcd9e805ba61f35674a9de4)\n"
     ]
    },
    {
     "data": {
      "application/vnd.jupyter.widget-view+json": {
       "model_id": "52dac893fa9244b98d096d17378d7cfd",
       "version_major": 2,
       "version_minor": 0
      },
      "text/plain": [
       "  0%|          | 0/2 [00:00<?, ?it/s]"
      ]
     },
     "metadata": {},
     "output_type": "display_data"
    }
   ],
   "source": [
    "from datasets import load_dataset\n",
    "from transformers import PerceiverFeatureExtractor\n",
    "from torch.utils.data import DataLoader\n",
    "import torch\n",
    "device = torch.device(\"cpu\")\n",
    "\n",
    "# load cifar10 (only small portion for demonstration purposes) \n",
    "train_ds, test_ds = load_dataset('cifar10', split=['train[:1000]', 'test[:100]'])\n",
    "# split up training into training + validation\n",
    "splits = train_ds.train_test_split(test_size=0.1)\n",
    "train_ds = splits['train']\n",
    "val_ds = splits['test']\n",
    "\n",
    "id2label = {idx:label for idx,label in enumerate(train_ds.features['label'].names)}\n",
    "label2id = {label:idx for idx, label in id2label.items()}\n",
    "\n",
    "feature_extractor = PerceiverFeatureExtractor()\n",
    "\n",
    "def preprocess_images(examples):\n",
    "    examples['pixel_values'] = feature_extractor(examples['img'], return_tensors=\"pt\").pixel_values\n",
    "    return examples\n",
    "\n",
    "# Set the transforms\n",
    "train_ds.set_transform(preprocess_images)\n",
    "val_ds.set_transform(preprocess_images)\n",
    "test_ds.set_transform(preprocess_images)\n",
    "\n",
    "def collate_fn(examples):\n",
    "    pixel_values = torch.stack([example[\"pixel_values\"] for example in examples])\n",
    "    labels = torch.tensor([example[\"label\"] for example in examples])\n",
    "    return {\"pixel_values\": pixel_values, \"labels\": labels}\n",
    "\n",
    "train_batch_size = 10\n",
    "eval_batch_size = 10\n",
    "\n",
    "train_dataloader = DataLoader(train_ds, shuffle=True, collate_fn=collate_fn, batch_size=train_batch_size)\n",
    "val_dataloader = DataLoader(val_ds, collate_fn=collate_fn, batch_size=eval_batch_size)\n",
    "test_dataloader = DataLoader(test_ds, collate_fn=collate_fn, batch_size=eval_batch_size)"
   ]
  },
  {
   "cell_type": "code",
   "execution_count": 3,
   "metadata": {},
   "outputs": [
    {
     "data": {
      "text/plain": [
       "torch.Size([10, 1, 50176])"
      ]
     },
     "execution_count": 3,
     "metadata": {},
     "output_type": "execute_result"
    }
   ],
   "source": [
    "import numpy as np\n",
    "\n",
    "t = next(iter(train_dataloader))[\"pixel_values\"]\n",
    "\n",
    "# torch.mean(t, dim=1).unsqueeze(1).shape\n",
    "\n",
    "torch.flatten(torch.mean(t, dim=1).unsqueeze(1), start_dim=2).shape"
   ]
  },
  {
   "cell_type": "code",
   "execution_count": 15,
   "metadata": {},
   "outputs": [
    {
     "name": "stdout",
     "output_type": "stream",
     "text": [
      "The autoreload extension is already loaded. To reload it, use:\n",
      "  %reload_ext autoreload\n"
     ]
    }
   ],
   "source": [
    "# preprocessor we customized to use the tagkop encoder\n",
    "from tagkop_encoding_functions import (\n",
    "    PerceiverImagePreprocessor\n",
    ")\n",
    "# perceiver modules from hugging face\n",
    "from transformers.models.perceiver.modeling_perceiver import (\n",
    "    PerceiverConfig,\n",
    "    PerceiverModel,\n",
    "    PerceiverClassificationDecoder\n",
    ")\n",
    "%load_ext autoreload\n",
    "%autoreload 2"
   ]
  },
  {
   "cell_type": "code",
   "execution_count": 16,
   "metadata": {},
   "outputs": [
    {
     "name": "stdout",
     "output_type": "stream",
     "text": [
      "model:  PerceiverModel(\n",
      "  (input_preprocessor): PerceiverImagePreprocessor(\n",
      "    (position_embeddings): PerceiverTagkopPositionEncoding()\n",
      "    (positions_projection): Linear(in_features=1, out_features=1, bias=True)\n",
      "    (conv_after_patches): Identity()\n",
      "  )\n",
      "  (embeddings): PerceiverEmbeddings()\n",
      "  (encoder): PerceiverEncoder(\n",
      "    (cross_attention): PerceiverLayer(\n",
      "      (attention): PerceiverAttention(\n",
      "        (self): PerceiverSelfAttention(\n",
      "          (layernorm1): LayerNorm((1280,), eps=1e-05, elementwise_affine=True)\n",
      "          (layernorm2): LayerNorm((2,), eps=1e-05, elementwise_affine=True)\n",
      "          (query): Linear(in_features=1280, out_features=2, bias=True)\n",
      "          (key): Linear(in_features=2, out_features=2, bias=True)\n",
      "          (value): Linear(in_features=2, out_features=2, bias=True)\n",
      "          (dropout): Dropout(p=0.1, inplace=False)\n",
      "        )\n",
      "        (output): PerceiverSelfOutput(\n",
      "          (dense): Linear(in_features=2, out_features=1280, bias=True)\n",
      "        )\n",
      "      )\n",
      "      (layernorm): LayerNorm((1280,), eps=1e-05, elementwise_affine=True)\n",
      "      (mlp): PerceiverMLP(\n",
      "        (dense1): Linear(in_features=1280, out_features=1280, bias=True)\n",
      "        (intermediate_act_fn): GELUActivation()\n",
      "        (dense2): Linear(in_features=1280, out_features=1280, bias=True)\n",
      "      )\n",
      "    )\n",
      "    (self_attends): ModuleList(\n",
      "      (0): PerceiverLayer(\n",
      "        (attention): PerceiverAttention(\n",
      "          (self): PerceiverSelfAttention(\n",
      "            (layernorm1): LayerNorm((1280,), eps=1e-05, elementwise_affine=True)\n",
      "            (layernorm2): Identity()\n",
      "            (query): Linear(in_features=1280, out_features=1280, bias=True)\n",
      "            (key): Linear(in_features=1280, out_features=1280, bias=True)\n",
      "            (value): Linear(in_features=1280, out_features=1280, bias=True)\n",
      "            (dropout): Dropout(p=0.1, inplace=False)\n",
      "          )\n",
      "          (output): PerceiverSelfOutput(\n",
      "            (dense): Linear(in_features=1280, out_features=1280, bias=True)\n",
      "          )\n",
      "        )\n",
      "        (layernorm): LayerNorm((1280,), eps=1e-05, elementwise_affine=True)\n",
      "        (mlp): PerceiverMLP(\n",
      "          (dense1): Linear(in_features=1280, out_features=1280, bias=True)\n",
      "          (intermediate_act_fn): GELUActivation()\n",
      "          (dense2): Linear(in_features=1280, out_features=1280, bias=True)\n",
      "        )\n",
      "      )\n",
      "    )\n",
      "  )\n",
      "  (decoder): PerceiverClassificationDecoder(\n",
      "    (decoder): PerceiverBasicDecoder(\n",
      "      (output_position_encodings): PerceiverTrainablePositionEncoding()\n",
      "      (positions_projection): Identity()\n",
      "      (decoding_cross_attention): PerceiverLayer(\n",
      "        (attention): PerceiverAttention(\n",
      "          (self): PerceiverSelfAttention(\n",
      "            (layernorm1): LayerNorm((1280,), eps=1e-05, elementwise_affine=True)\n",
      "            (layernorm2): LayerNorm((1280,), eps=1e-05, elementwise_affine=True)\n",
      "            (query): Linear(in_features=1280, out_features=1280, bias=True)\n",
      "            (key): Linear(in_features=1280, out_features=1280, bias=True)\n",
      "            (value): Linear(in_features=1280, out_features=1280, bias=True)\n",
      "            (dropout): Dropout(p=0.1, inplace=False)\n",
      "          )\n",
      "          (output): PerceiverSelfOutput(\n",
      "            (dense): Linear(in_features=1280, out_features=1280, bias=True)\n",
      "          )\n",
      "        )\n",
      "        (layernorm): LayerNorm((1280,), eps=1e-05, elementwise_affine=True)\n",
      "        (mlp): PerceiverMLP(\n",
      "          (dense1): Linear(in_features=1280, out_features=1280, bias=True)\n",
      "          (intermediate_act_fn): GELUActivation()\n",
      "          (dense2): Linear(in_features=1280, out_features=1280, bias=True)\n",
      "        )\n",
      "      )\n",
      "      (final_layer): Linear(in_features=1280, out_features=10, bias=True)\n",
      "    )\n",
      "  )\n",
      ")\n"
     ]
    }
   ],
   "source": [
    "config = PerceiverConfig(image_size=224,\n",
    "                        num_self_attends_per_block = 1,\n",
    "                        num_cross_attention_heads = 1,\n",
    "                        use_labels=True,\n",
    "                        num_labels=10,\n",
    "                        num_latents=1,\n",
    "                        id2label=id2label,\n",
    "                        label2id=label2id,\n",
    "                        ignore_mismatched_sizes=True\n",
    "                        )\n",
    "\n",
    "preprocessor = PerceiverImagePreprocessor(\n",
    "    config,\n",
    "    prep_type=\"1d\",\n",
    "    spatial_downsample=1,\n",
    "    out_channels=1,\n",
    "    position_encoding_type=\"tagkop\",\n",
    "    concat_or_add_pos=\"concat\",\n",
    "    project_pos_dim=1,\n",
    "    tagkop_position_encoding_kwargs=dict(\n",
    "        num_channels=1,\n",
    "        index_dims=config.image_size**2,\n",
    "    ),\n",
    ")\n",
    "\n",
    "modely = PerceiverModel(\n",
    "    config,\n",
    "    input_preprocessor=preprocessor,\n",
    "    decoder=PerceiverClassificationDecoder(\n",
    "        config,\n",
    "        num_channels=config.d_latents,\n",
    "        trainable_position_encoding_kwargs=dict(num_channels=config.d_latents, index_dims=1),\n",
    "        use_query_residual=True,\n",
    "    ),\n",
    ")\n",
    "\n",
    "modely.to(device)\n",
    "\n",
    "print('model: ', modely)"
   ]
  },
  {
   "cell_type": "code",
   "execution_count": 17,
   "metadata": {},
   "outputs": [
    {
     "data": {
      "application/vnd.jupyter.widget-view+json": {
       "model_id": "93a940f3f5044b56a8a995abed64728a",
       "version_major": 2,
       "version_minor": 0
      },
      "text/plain": [
       "  0%|          | 0/90 [00:00<?, ?it/s]"
      ]
     },
     "metadata": {},
     "output_type": "display_data"
    },
    {
     "name": "stdout",
     "output_type": "stream",
     "text": [
      "Shit, something went wrong in generate_tagkop_features\n",
      "torch.Size([50176, 1])\n",
      "Loss: nan, Accuracy: 0.1\n",
      "Shit, something went wrong in generate_tagkop_features\n",
      "torch.Size([50176, 1])\n",
      "Loss: nan, Accuracy: 0.0\n",
      "Shit, something went wrong in generate_tagkop_features\n",
      "torch.Size([50176, 1])\n",
      "Loss: nan, Accuracy: 0.0\n",
      "Shit, something went wrong in generate_tagkop_features\n",
      "torch.Size([50176, 1])\n",
      "Loss: nan, Accuracy: 0.0\n",
      "Shit, something went wrong in generate_tagkop_features\n",
      "torch.Size([50176, 1])\n",
      "Loss: nan, Accuracy: 0.1\n"
     ]
    },
    {
     "ename": "KeyboardInterrupt",
     "evalue": "",
     "output_type": "error",
     "traceback": [
      "\u001b[0;31m---------------------------------------------------------------------------\u001b[0m",
      "\u001b[0;31mKeyboardInterrupt\u001b[0m                         Traceback (most recent call last)",
      "\u001b[1;32m/Users/stefanbroecker/Documents/ECS289G/pretrained_positional_embeddings/run_perceiver_w_tagkop_encoder.ipynb Cell 5\u001b[0m in \u001b[0;36m<cell line: 8>\u001b[0;34m()\u001b[0m\n\u001b[1;32m     <a href='vscode-notebook-cell:/Users/stefanbroecker/Documents/ECS289G/pretrained_positional_embeddings/run_perceiver_w_tagkop_encoder.ipynb#W4sZmlsZQ%3D%3D?line=14'>15</a>\u001b[0m optimizer\u001b[39m.\u001b[39mzero_grad()\n\u001b[1;32m     <a href='vscode-notebook-cell:/Users/stefanbroecker/Documents/ECS289G/pretrained_positional_embeddings/run_perceiver_w_tagkop_encoder.ipynb#W4sZmlsZQ%3D%3D?line=16'>17</a>\u001b[0m \u001b[39m# forward + backward + optimize\u001b[39;00m\n\u001b[1;32m     <a href='vscode-notebook-cell:/Users/stefanbroecker/Documents/ECS289G/pretrained_positional_embeddings/run_perceiver_w_tagkop_encoder.ipynb#W4sZmlsZQ%3D%3D?line=17'>18</a>\u001b[0m \u001b[39m# average the three image channels into a single channel\u001b[39;00m\n\u001b[1;32m     <a href='vscode-notebook-cell:/Users/stefanbroecker/Documents/ECS289G/pretrained_positional_embeddings/run_perceiver_w_tagkop_encoder.ipynb#W4sZmlsZQ%3D%3D?line=18'>19</a>\u001b[0m \u001b[39m# add the channel dimension back in because the model expects it\u001b[39;00m\n\u001b[0;32m---> <a href='vscode-notebook-cell:/Users/stefanbroecker/Documents/ECS289G/pretrained_positional_embeddings/run_perceiver_w_tagkop_encoder.ipynb#W4sZmlsZQ%3D%3D?line=19'>20</a>\u001b[0m outputs \u001b[39m=\u001b[39m modely(inputs\u001b[39m=\u001b[39;49mtorch\u001b[39m.\u001b[39;49mmean(inputs, dim\u001b[39m=\u001b[39;49m\u001b[39m1\u001b[39;49m)\u001b[39m.\u001b[39;49munsqueeze(\u001b[39m1\u001b[39;49m))\n\u001b[1;32m     <a href='vscode-notebook-cell:/Users/stefanbroecker/Documents/ECS289G/pretrained_positional_embeddings/run_perceiver_w_tagkop_encoder.ipynb#W4sZmlsZQ%3D%3D?line=20'>21</a>\u001b[0m logits \u001b[39m=\u001b[39m outputs\u001b[39m.\u001b[39mlogits\n\u001b[1;32m     <a href='vscode-notebook-cell:/Users/stefanbroecker/Documents/ECS289G/pretrained_positional_embeddings/run_perceiver_w_tagkop_encoder.ipynb#W4sZmlsZQ%3D%3D?line=22'>23</a>\u001b[0m criterion \u001b[39m=\u001b[39m torch\u001b[39m.\u001b[39mnn\u001b[39m.\u001b[39mCrossEntropyLoss()\n",
      "File \u001b[0;32m/usr/local/lib/python3.9/site-packages/torch/nn/modules/module.py:1110\u001b[0m, in \u001b[0;36mModule._call_impl\u001b[0;34m(self, *input, **kwargs)\u001b[0m\n\u001b[1;32m   1106\u001b[0m \u001b[39m# If we don't have any hooks, we want to skip the rest of the logic in\u001b[39;00m\n\u001b[1;32m   1107\u001b[0m \u001b[39m# this function, and just call forward.\u001b[39;00m\n\u001b[1;32m   1108\u001b[0m \u001b[39mif\u001b[39;00m \u001b[39mnot\u001b[39;00m (\u001b[39mself\u001b[39m\u001b[39m.\u001b[39m_backward_hooks \u001b[39mor\u001b[39;00m \u001b[39mself\u001b[39m\u001b[39m.\u001b[39m_forward_hooks \u001b[39mor\u001b[39;00m \u001b[39mself\u001b[39m\u001b[39m.\u001b[39m_forward_pre_hooks \u001b[39mor\u001b[39;00m _global_backward_hooks\n\u001b[1;32m   1109\u001b[0m         \u001b[39mor\u001b[39;00m _global_forward_hooks \u001b[39mor\u001b[39;00m _global_forward_pre_hooks):\n\u001b[0;32m-> 1110\u001b[0m     \u001b[39mreturn\u001b[39;00m forward_call(\u001b[39m*\u001b[39;49m\u001b[39minput\u001b[39;49m, \u001b[39m*\u001b[39;49m\u001b[39m*\u001b[39;49mkwargs)\n\u001b[1;32m   1111\u001b[0m \u001b[39m# Do not call functions when jit is used\u001b[39;00m\n\u001b[1;32m   1112\u001b[0m full_backward_hooks, non_full_backward_hooks \u001b[39m=\u001b[39m [], []\n",
      "File \u001b[0;32m/usr/local/lib/python3.9/site-packages/transformers/models/perceiver/modeling_perceiver.py:866\u001b[0m, in \u001b[0;36mPerceiverModel.forward\u001b[0;34m(self, inputs, attention_mask, subsampled_output_points, head_mask, output_attentions, output_hidden_states, return_dict)\u001b[0m\n\u001b[1;32m    863\u001b[0m return_dict \u001b[39m=\u001b[39m return_dict \u001b[39mif\u001b[39;00m return_dict \u001b[39mis\u001b[39;00m \u001b[39mnot\u001b[39;00m \u001b[39mNone\u001b[39;00m \u001b[39melse\u001b[39;00m \u001b[39mself\u001b[39m\u001b[39m.\u001b[39mconfig\u001b[39m.\u001b[39muse_return_dict\n\u001b[1;32m    865\u001b[0m \u001b[39mif\u001b[39;00m \u001b[39mself\u001b[39m\u001b[39m.\u001b[39minput_preprocessor \u001b[39mis\u001b[39;00m \u001b[39mnot\u001b[39;00m \u001b[39mNone\u001b[39;00m:\n\u001b[0;32m--> 866\u001b[0m     inputs, modality_sizes, inputs_without_pos \u001b[39m=\u001b[39m \u001b[39mself\u001b[39;49m\u001b[39m.\u001b[39;49minput_preprocessor(inputs)\n\u001b[1;32m    867\u001b[0m \u001b[39melse\u001b[39;00m:\n\u001b[1;32m    868\u001b[0m     modality_sizes \u001b[39m=\u001b[39m \u001b[39mNone\u001b[39;00m\n",
      "File \u001b[0;32m/usr/local/lib/python3.9/site-packages/torch/nn/modules/module.py:1110\u001b[0m, in \u001b[0;36mModule._call_impl\u001b[0;34m(self, *input, **kwargs)\u001b[0m\n\u001b[1;32m   1106\u001b[0m \u001b[39m# If we don't have any hooks, we want to skip the rest of the logic in\u001b[39;00m\n\u001b[1;32m   1107\u001b[0m \u001b[39m# this function, and just call forward.\u001b[39;00m\n\u001b[1;32m   1108\u001b[0m \u001b[39mif\u001b[39;00m \u001b[39mnot\u001b[39;00m (\u001b[39mself\u001b[39m\u001b[39m.\u001b[39m_backward_hooks \u001b[39mor\u001b[39;00m \u001b[39mself\u001b[39m\u001b[39m.\u001b[39m_forward_hooks \u001b[39mor\u001b[39;00m \u001b[39mself\u001b[39m\u001b[39m.\u001b[39m_forward_pre_hooks \u001b[39mor\u001b[39;00m _global_backward_hooks\n\u001b[1;32m   1109\u001b[0m         \u001b[39mor\u001b[39;00m _global_forward_hooks \u001b[39mor\u001b[39;00m _global_forward_pre_hooks):\n\u001b[0;32m-> 1110\u001b[0m     \u001b[39mreturn\u001b[39;00m forward_call(\u001b[39m*\u001b[39;49m\u001b[39minput\u001b[39;49m, \u001b[39m*\u001b[39;49m\u001b[39m*\u001b[39;49mkwargs)\n\u001b[1;32m   1111\u001b[0m \u001b[39m# Do not call functions when jit is used\u001b[39;00m\n\u001b[1;32m   1112\u001b[0m full_backward_hooks, non_full_backward_hooks \u001b[39m=\u001b[39m [], []\n",
      "File \u001b[0;32m~/Documents/ECS289G/pretrained_positional_embeddings/tagkop_encoding_functions.py:317\u001b[0m, in \u001b[0;36mPerceiverImagePreprocessor.forward\u001b[0;34m(self, inputs, pos, network_input_is_1d)\u001b[0m\n\u001b[1;32m    314\u001b[0m     \u001b[39melse\u001b[39;00m:\n\u001b[1;32m    315\u001b[0m         \u001b[39mraise\u001b[39;00m \u001b[39mValueError\u001b[39;00m(\u001b[39m\"\u001b[39m\u001b[39mUnsupported data format for conv1x1.\u001b[39m\u001b[39m\"\u001b[39m)\n\u001b[0;32m--> 317\u001b[0m inputs, inputs_without_pos \u001b[39m=\u001b[39m \u001b[39mself\u001b[39;49m\u001b[39m.\u001b[39;49m_build_network_inputs(inputs, network_input_is_1d)\n\u001b[1;32m    318\u001b[0m modality_sizes \u001b[39m=\u001b[39m \u001b[39mNone\u001b[39;00m  \u001b[39m# Size for each modality, only needed for multimodal\u001b[39;00m\n\u001b[1;32m    320\u001b[0m \u001b[39mreturn\u001b[39;00m inputs, modality_sizes, inputs_without_pos\n",
      "File \u001b[0;32m~/Documents/ECS289G/pretrained_positional_embeddings/tagkop_encoding_functions.py:251\u001b[0m, in \u001b[0;36mPerceiverImagePreprocessor._build_network_inputs\u001b[0;34m(self, inputs, network_input_is_1d)\u001b[0m\n\u001b[1;32m    249\u001b[0m     pos_enc \u001b[39m=\u001b[39m \u001b[39mself\u001b[39m\u001b[39m.\u001b[39mposition_embeddings(index_dims, batch_size, device\u001b[39m=\u001b[39minputs\u001b[39m.\u001b[39mdevice)\n\u001b[1;32m    250\u001b[0m \u001b[39melif\u001b[39;00m \u001b[39mself\u001b[39m\u001b[39m.\u001b[39mposition_encoding_type \u001b[39m==\u001b[39m \u001b[39m\"\u001b[39m\u001b[39mtagkop\u001b[39m\u001b[39m\"\u001b[39m:\n\u001b[0;32m--> 251\u001b[0m     pos_enc \u001b[39m=\u001b[39m \u001b[39mself\u001b[39;49m\u001b[39m.\u001b[39;49mposition_embeddings(index_dims, batch_size, device\u001b[39m=\u001b[39;49minputs\u001b[39m.\u001b[39;49mdevice)\n\u001b[1;32m    253\u001b[0m \u001b[39m# Optionally project them to a target dimension.\u001b[39;00m\n\u001b[1;32m    254\u001b[0m pos_enc \u001b[39m=\u001b[39m \u001b[39mself\u001b[39m\u001b[39m.\u001b[39mpositions_projection(pos_enc)\n",
      "File \u001b[0;32m/usr/local/lib/python3.9/site-packages/torch/nn/modules/module.py:1110\u001b[0m, in \u001b[0;36mModule._call_impl\u001b[0;34m(self, *input, **kwargs)\u001b[0m\n\u001b[1;32m   1106\u001b[0m \u001b[39m# If we don't have any hooks, we want to skip the rest of the logic in\u001b[39;00m\n\u001b[1;32m   1107\u001b[0m \u001b[39m# this function, and just call forward.\u001b[39;00m\n\u001b[1;32m   1108\u001b[0m \u001b[39mif\u001b[39;00m \u001b[39mnot\u001b[39;00m (\u001b[39mself\u001b[39m\u001b[39m.\u001b[39m_backward_hooks \u001b[39mor\u001b[39;00m \u001b[39mself\u001b[39m\u001b[39m.\u001b[39m_forward_hooks \u001b[39mor\u001b[39;00m \u001b[39mself\u001b[39m\u001b[39m.\u001b[39m_forward_pre_hooks \u001b[39mor\u001b[39;00m _global_backward_hooks\n\u001b[1;32m   1109\u001b[0m         \u001b[39mor\u001b[39;00m _global_forward_hooks \u001b[39mor\u001b[39;00m _global_forward_pre_hooks):\n\u001b[0;32m-> 1110\u001b[0m     \u001b[39mreturn\u001b[39;00m forward_call(\u001b[39m*\u001b[39;49m\u001b[39minput\u001b[39;49m, \u001b[39m*\u001b[39;49m\u001b[39m*\u001b[39;49mkwargs)\n\u001b[1;32m   1111\u001b[0m \u001b[39m# Do not call functions when jit is used\u001b[39;00m\n\u001b[1;32m   1112\u001b[0m full_backward_hooks, non_full_backward_hooks \u001b[39m=\u001b[39m [], []\n",
      "File \u001b[0;32m~/Documents/ECS289G/pretrained_positional_embeddings/tagkop_encoding_functions.py:110\u001b[0m, in \u001b[0;36mPerceiverTagkopPositionEncoding.forward\u001b[0;34m(self, index_dims, batch_size, device, pos)\u001b[0m\n\u001b[1;32m    107\u001b[0m \u001b[39mdef\u001b[39;00m \u001b[39mforward\u001b[39m(\n\u001b[1;32m    108\u001b[0m     \u001b[39mself\u001b[39m, index_dims: List[\u001b[39mint\u001b[39m], batch_size: \u001b[39mint\u001b[39m, device, pos: torch\u001b[39m.\u001b[39mFloatTensor \u001b[39m=\u001b[39m \u001b[39mNone\u001b[39;00m\n\u001b[1;32m    109\u001b[0m ) \u001b[39m-\u001b[39m\u001b[39m>\u001b[39m torch\u001b[39m.\u001b[39mFloatTensor:\n\u001b[0;32m--> 110\u001b[0m     \u001b[39mself\u001b[39m\u001b[39m.\u001b[39mposition_embeddings \u001b[39m=\u001b[39m generate_tagkop_features(\n\u001b[1;32m    111\u001b[0m         index_dims,\n\u001b[1;32m    112\u001b[0m         batch_size,\n\u001b[1;32m    113\u001b[0m         \u001b[39mself\u001b[39;49m\u001b[39m.\u001b[39;49m_num_channels\n\u001b[1;32m    114\u001b[0m     )\u001b[39m.\u001b[39mto(device)\n\u001b[1;32m    116\u001b[0m     \u001b[39mif\u001b[39;00m batch_size \u001b[39mis\u001b[39;00m \u001b[39mnot\u001b[39;00m \u001b[39mNone\u001b[39;00m:\n\u001b[1;32m    117\u001b[0m         \u001b[39mself\u001b[39m\u001b[39m.\u001b[39mposition_embeddings \u001b[39m=\u001b[39m \u001b[39mself\u001b[39m\u001b[39m.\u001b[39mposition_embeddings\u001b[39m.\u001b[39mexpand(batch_size, \u001b[39m-\u001b[39m\u001b[39m1\u001b[39m, \u001b[39m-\u001b[39m\u001b[39m1\u001b[39m)\n",
      "File \u001b[0;32m~/Documents/ECS289G/pretrained_positional_embeddings/tagkop_encoding_functions.py:37\u001b[0m, in \u001b[0;36mgenerate_tagkop_features\u001b[0;34m(index_dims, batch_size, num_channels)\u001b[0m\n\u001b[1;32m     31\u001b[0m \u001b[39m\"\"\"\u001b[39;00m\n\u001b[1;32m     32\u001b[0m \u001b[39mThis is where the code would go to train the MAE, build the weight matrix, then resize with tSNE\u001b[39;00m\n\u001b[1;32m     33\u001b[0m \n\u001b[1;32m     34\u001b[0m \u001b[39mSince that already happened, we're just loading the features from a file\u001b[39;00m\n\u001b[1;32m     35\u001b[0m \u001b[39m\"\"\"\u001b[39;00m\n\u001b[1;32m     36\u001b[0m \u001b[39m# embedding_tensor.pth is a (224^2)x(224^2) grid\u001b[39;00m\n\u001b[0;32m---> 37\u001b[0m per_pos_features \u001b[39m=\u001b[39m torch\u001b[39m.\u001b[39;49mload(\u001b[39m\"\u001b[39;49m\u001b[39membedding_tensor.pth\u001b[39;49m\u001b[39m\"\u001b[39;49m)\n\u001b[1;32m     38\u001b[0m \u001b[39m# index_dims is [224, 224], and we want 224^2\u001b[39;00m\n\u001b[1;32m     39\u001b[0m flat_dims \u001b[39m=\u001b[39m np\u001b[39m.\u001b[39mprod(index_dims)  \n",
      "File \u001b[0;32m/usr/local/lib/python3.9/site-packages/torch/serialization.py:712\u001b[0m, in \u001b[0;36mload\u001b[0;34m(f, map_location, pickle_module, **pickle_load_args)\u001b[0m\n\u001b[1;32m    710\u001b[0m             opened_file\u001b[39m.\u001b[39mseek(orig_position)\n\u001b[1;32m    711\u001b[0m             \u001b[39mreturn\u001b[39;00m torch\u001b[39m.\u001b[39mjit\u001b[39m.\u001b[39mload(opened_file)\n\u001b[0;32m--> 712\u001b[0m         \u001b[39mreturn\u001b[39;00m _load(opened_zipfile, map_location, pickle_module, \u001b[39m*\u001b[39;49m\u001b[39m*\u001b[39;49mpickle_load_args)\n\u001b[1;32m    713\u001b[0m \u001b[39mreturn\u001b[39;00m _legacy_load(opened_file, map_location, pickle_module, \u001b[39m*\u001b[39m\u001b[39m*\u001b[39mpickle_load_args)\n",
      "File \u001b[0;32m/usr/local/lib/python3.9/site-packages/torch/serialization.py:1046\u001b[0m, in \u001b[0;36m_load\u001b[0;34m(zip_file, map_location, pickle_module, pickle_file, **pickle_load_args)\u001b[0m\n\u001b[1;32m   1044\u001b[0m unpickler \u001b[39m=\u001b[39m UnpicklerWrapper(data_file, \u001b[39m*\u001b[39m\u001b[39m*\u001b[39mpickle_load_args)\n\u001b[1;32m   1045\u001b[0m unpickler\u001b[39m.\u001b[39mpersistent_load \u001b[39m=\u001b[39m persistent_load\n\u001b[0;32m-> 1046\u001b[0m result \u001b[39m=\u001b[39m unpickler\u001b[39m.\u001b[39;49mload()\n\u001b[1;32m   1048\u001b[0m torch\u001b[39m.\u001b[39m_utils\u001b[39m.\u001b[39m_validate_loaded_sparse_tensors()\n\u001b[1;32m   1050\u001b[0m \u001b[39mreturn\u001b[39;00m result\n",
      "File \u001b[0;32m/usr/local/lib/python3.9/site-packages/torch/serialization.py:1016\u001b[0m, in \u001b[0;36m_load.<locals>.persistent_load\u001b[0;34m(saved_id)\u001b[0m\n\u001b[1;32m   1014\u001b[0m \u001b[39mif\u001b[39;00m key \u001b[39mnot\u001b[39;00m \u001b[39min\u001b[39;00m loaded_storages:\n\u001b[1;32m   1015\u001b[0m     nbytes \u001b[39m=\u001b[39m numel \u001b[39m*\u001b[39m torch\u001b[39m.\u001b[39m_utils\u001b[39m.\u001b[39m_element_size(dtype)\n\u001b[0;32m-> 1016\u001b[0m     load_tensor(dtype, nbytes, key, _maybe_decode_ascii(location))\n\u001b[1;32m   1018\u001b[0m \u001b[39mreturn\u001b[39;00m loaded_storages[key]\n",
      "File \u001b[0;32m/usr/local/lib/python3.9/site-packages/torch/serialization.py:997\u001b[0m, in \u001b[0;36m_load.<locals>.load_tensor\u001b[0;34m(dtype, numel, key, location)\u001b[0m\n\u001b[1;32m    994\u001b[0m \u001b[39mdef\u001b[39;00m \u001b[39mload_tensor\u001b[39m(dtype, numel, key, location):\n\u001b[1;32m    995\u001b[0m     name \u001b[39m=\u001b[39m \u001b[39mf\u001b[39m\u001b[39m'\u001b[39m\u001b[39mdata/\u001b[39m\u001b[39m{\u001b[39;00mkey\u001b[39m}\u001b[39;00m\u001b[39m'\u001b[39m\n\u001b[0;32m--> 997\u001b[0m     storage \u001b[39m=\u001b[39m zip_file\u001b[39m.\u001b[39;49mget_storage_from_record(name, numel, torch\u001b[39m.\u001b[39;49m_UntypedStorage)\u001b[39m.\u001b[39mstorage()\u001b[39m.\u001b[39m_untyped()\n\u001b[1;32m    998\u001b[0m     \u001b[39m# TODO: Once we decide to break serialization FC, we can\u001b[39;00m\n\u001b[1;32m    999\u001b[0m     \u001b[39m# stop wrapping with _TypedStorage\u001b[39;00m\n\u001b[1;32m   1000\u001b[0m     loaded_storages[key] \u001b[39m=\u001b[39m torch\u001b[39m.\u001b[39mstorage\u001b[39m.\u001b[39m_TypedStorage(\n\u001b[1;32m   1001\u001b[0m         wrap_storage\u001b[39m=\u001b[39mrestore_location(storage, location),\n\u001b[1;32m   1002\u001b[0m         dtype\u001b[39m=\u001b[39mdtype)\n",
      "\u001b[0;31mKeyboardInterrupt\u001b[0m: "
     ]
    }
   ],
   "source": [
    "from torch.optim import AdamW\n",
    "from tqdm.notebook import tqdm\n",
    "from sklearn.metrics import accuracy_score\n",
    "\n",
    "optimizer = AdamW(modely.parameters(), lr=5e-5)\n",
    "\n",
    "modely.train()\n",
    "for epoch in range(10):\n",
    "    for batch in tqdm(train_dataloader):\n",
    "        # get the inputs; \n",
    "        inputs = batch[\"pixel_values\"].to(device)\n",
    "        labels = batch[\"labels\"].to(device)\n",
    "\n",
    "        # zero the parameter gradients\n",
    "        optimizer.zero_grad()\n",
    "\n",
    "        # forward + backward + optimize\n",
    "        # average the three image channels into a single channel\n",
    "        # add the channel dimension back in because the model expects it\n",
    "        outputs = modely(inputs=torch.mean(inputs, dim=1).unsqueeze(1))\n",
    "        logits = outputs.logits\n",
    "\n",
    "        criterion = torch.nn.CrossEntropyLoss()\n",
    "\n",
    "        loss = criterion(logits, labels)\n",
    "        loss.backward()\n",
    "        optimizer.step()\n",
    "\n",
    "        predictions = outputs.logits.argmax(-1).cpu().detach().numpy()\n",
    "        accuracy = accuracy_score(y_true=batch[\"labels\"].numpy(), y_pred=predictions)\n",
    "        print(f\"Loss: {loss.item()}, Accuracy: {accuracy}\")\n",
    "\n",
    "    predictions = outputs.logits.argmax(-1).cpu().detach().numpy()\n",
    "    accuracy = accuracy_score(y_true=batch[\"labels\"].numpy(), y_pred=predictions)\n",
    "    print(f\"Loss: {loss.item()}, Accuracy: {accuracy}\")\n",
    "    \n",
    "    "
   ]
  },
  {
   "cell_type": "code",
   "execution_count": null,
   "metadata": {},
   "outputs": [],
   "source": []
  },
  {
   "cell_type": "code",
   "execution_count": null,
   "metadata": {},
   "outputs": [],
   "source": []
  }
 ],
 "metadata": {
  "kernelspec": {
   "display_name": "Python 3.9.6 64-bit",
   "language": "python",
   "name": "python3"
  },
  "language_info": {
   "codemirror_mode": {
    "name": "ipython",
    "version": 3
   },
   "file_extension": ".py",
   "mimetype": "text/x-python",
   "name": "python",
   "nbconvert_exporter": "python",
   "pygments_lexer": "ipython3",
   "version": "3.9.6"
  },
  "orig_nbformat": 4,
  "vscode": {
   "interpreter": {
    "hash": "949777d72b0d2535278d3dc13498b2535136f6dfe0678499012e853ee9abcab1"
   }
  }
 },
 "nbformat": 4,
 "nbformat_minor": 2
}
