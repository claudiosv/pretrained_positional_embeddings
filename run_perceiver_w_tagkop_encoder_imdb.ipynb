{
 "cells": [
  {
   "cell_type": "code",
   "execution_count": 1,
   "metadata": {},
   "outputs": [
    {
     "name": "stderr",
     "output_type": "stream",
     "text": [
      "Found cached dataset imdb (/Users/stefanbroecker/.cache/huggingface/datasets/imdb/plain_text/1.0.0/2fdd8b9bcadd6e7055e742a706876ba43f19faee861df134affd7a3f60fc38a1)\n"
     ]
    },
    {
     "data": {
      "application/vnd.jupyter.widget-view+json": {
       "model_id": "0fa6dd5a90974c5fb5b59654dea087d0",
       "version_major": 2,
       "version_minor": 0
      },
      "text/plain": [
       "  0%|          | 0/2 [00:00<?, ?it/s]"
      ]
     },
     "metadata": {},
     "output_type": "display_data"
    },
    {
     "name": "stderr",
     "output_type": "stream",
     "text": [
      "Using unk_token, but it is not set yet.\n",
      "Using unk_token, but it is not set yet.\n",
      "Using unk_token, but it is not set yet.\n",
      "Using unk_token, but it is not set yet.\n",
      "Using unk_token, but it is not set yet.\n",
      "Using unk_token, but it is not set yet.\n",
      "Using unk_token, but it is not set yet.\n",
      "Using unk_token, but it is not set yet.\n",
      "Using unk_token, but it is not set yet.\n",
      "Using unk_token, but it is not set yet.\n",
      "Using unk_token, but it is not set yet.\n",
      "Using unk_token, but it is not set yet.\n"
     ]
    },
    {
     "data": {
      "application/vnd.jupyter.widget-view+json": {
       "model_id": "7200ff45ad01450db7ee123bdc7262f1",
       "version_major": 2,
       "version_minor": 0
      },
      "text/plain": [
       "  0%|          | 0/23 [00:00<?, ?ba/s]"
      ]
     },
     "metadata": {},
     "output_type": "display_data"
    },
    {
     "data": {
      "application/vnd.jupyter.widget-view+json": {
       "model_id": "3b49d22a81aa47958750d9998c088bf7",
       "version_major": 2,
       "version_minor": 0
      },
      "text/plain": [
       "  0%|          | 0/3 [00:00<?, ?ba/s]"
      ]
     },
     "metadata": {},
     "output_type": "display_data"
    },
    {
     "name": "stderr",
     "output_type": "stream",
     "text": [
      "Loading cached processed dataset at /Users/stefanbroecker/.cache/huggingface/datasets/imdb/plain_text/1.0.0/2fdd8b9bcadd6e7055e742a706876ba43f19faee861df134affd7a3f60fc38a1/cache-bcb9ca5bd890d68e.arrow\n"
     ]
    }
   ],
   "source": [
    "from datasets import load_dataset\n",
    "from transformers import PerceiverTokenizer\n",
    "from torch.utils.data import DataLoader\n",
    "import torch\n",
    "device = torch.device(\"cpu\")\n",
    "\n",
    "train_ds, test_ds = load_dataset(\"imdb\", split=['train', 'test'])\n",
    "# Split up training into training + validation\n",
    "splits = train_ds.train_test_split(test_size=0.1)\n",
    "train_ds = splits['train']\n",
    "val_ds = splits['test']\n",
    "\n",
    "tokenizer = PerceiverTokenizer.from_pretrained(\"deepmind/language-perceiver\")\n",
    "train_ds = train_ds.map(lambda examples: tokenizer(examples['text'], padding=\"max_length\", truncation=True),\n",
    "                        batched=True)\n",
    "val_ds = val_ds.map(lambda examples: tokenizer(examples['text'], padding=\"max_length\", truncation=True),\n",
    "                    batched=True)\n",
    "test_ds = test_ds.map(lambda examples: tokenizer(examples['text'], padding=\"max_length\", truncation=True),\n",
    "                        batched=True)\n",
    "\n",
    "train_ds.set_format(type=\"torch\", columns=['input_ids', 'label'])\n",
    "val_ds.set_format(type=\"torch\", columns=['input_ids', 'label'])\n",
    "test_ds.set_format(type=\"torch\", columns=['input_ids', 'label'])\n",
    "\n",
    "train_batch_size = 10\n",
    "eval_batch_size = 10\n",
    "\n",
    "train_dataloader = DataLoader(train_ds, shuffle=True, batch_size=train_batch_size)\n",
    "val_dataloader = DataLoader(val_ds, batch_size=eval_batch_size)\n",
    "test_dataloader = DataLoader(test_ds, batch_size=eval_batch_size)"
   ]
  },
  {
   "cell_type": "code",
   "execution_count": 2,
   "metadata": {},
   "outputs": [],
   "source": [
    "import numpy as np\n",
    "\n",
    "# t = next(iter(train_dataloader))[\"pixel_values\"]\n",
    "\n",
    "# torch.mean(t, dim=1).unsqueeze(1).shape\n",
    "\n",
    "# torch.flatten(torch.mean(t, dim=1).unsqueeze(1), start_dim=2).shape"
   ]
  },
  {
   "cell_type": "code",
   "execution_count": 2,
   "metadata": {},
   "outputs": [],
   "source": [
    "# preprocessor we customized to use the tagkop encoder\n",
    "from tagkop_encoding_functions import (\n",
    "    PerceiverImagePreprocessor\n",
    ")\n",
    "# perceiver modules from hugging face\n",
    "from transformers.models.perceiver.modeling_perceiver import (\n",
    "    PerceiverConfig,\n",
    "    PerceiverModel,\n",
    "    PerceiverClassificationDecoder\n",
    ")\n",
    "%load_ext autoreload\n",
    "%autoreload 2"
   ]
  },
  {
   "cell_type": "code",
   "execution_count": 3,
   "metadata": {},
   "outputs": [
    {
     "ename": "ValueError",
     "evalue": "Make sure to pass fourier_position_encoding_kwargs",
     "output_type": "error",
     "traceback": [
      "\u001b[0;31m---------------------------------------------------------------------------\u001b[0m",
      "\u001b[0;31mValueError\u001b[0m                                Traceback (most recent call last)",
      "\u001b[1;32m/Users/stefanbroecker/Documents/ECS289G/pretrained_positional_embeddings/run_perceiver_w_tagkop_encoder_imdb.ipynb Cell 4\u001b[0m in \u001b[0;36m<cell line: 10>\u001b[0;34m()\u001b[0m\n\u001b[1;32m      <a href='vscode-notebook-cell:/Users/stefanbroecker/Documents/ECS289G/pretrained_positional_embeddings/run_perceiver_w_tagkop_encoder_imdb.ipynb#X13sZmlsZQ%3D%3D?line=0'>1</a>\u001b[0m config \u001b[39m=\u001b[39m PerceiverConfig(image_size\u001b[39m=\u001b[39m\u001b[39m224\u001b[39m,\n\u001b[1;32m      <a href='vscode-notebook-cell:/Users/stefanbroecker/Documents/ECS289G/pretrained_positional_embeddings/run_perceiver_w_tagkop_encoder_imdb.ipynb#X13sZmlsZQ%3D%3D?line=1'>2</a>\u001b[0m                         num_self_attends_per_block \u001b[39m=\u001b[39m \u001b[39m1\u001b[39m,\n\u001b[1;32m      <a href='vscode-notebook-cell:/Users/stefanbroecker/Documents/ECS289G/pretrained_positional_embeddings/run_perceiver_w_tagkop_encoder_imdb.ipynb#X13sZmlsZQ%3D%3D?line=2'>3</a>\u001b[0m                         num_cross_attention_heads \u001b[39m=\u001b[39m \u001b[39m1\u001b[39m,\n\u001b[0;32m   (...)\u001b[0m\n\u001b[1;32m      <a href='vscode-notebook-cell:/Users/stefanbroecker/Documents/ECS289G/pretrained_positional_embeddings/run_perceiver_w_tagkop_encoder_imdb.ipynb#X13sZmlsZQ%3D%3D?line=6'>7</a>\u001b[0m                         ignore_mismatched_sizes\u001b[39m=\u001b[39m\u001b[39mTrue\u001b[39;00m\n\u001b[1;32m      <a href='vscode-notebook-cell:/Users/stefanbroecker/Documents/ECS289G/pretrained_positional_embeddings/run_perceiver_w_tagkop_encoder_imdb.ipynb#X13sZmlsZQ%3D%3D?line=7'>8</a>\u001b[0m                         )\n\u001b[0;32m---> <a href='vscode-notebook-cell:/Users/stefanbroecker/Documents/ECS289G/pretrained_positional_embeddings/run_perceiver_w_tagkop_encoder_imdb.ipynb#X13sZmlsZQ%3D%3D?line=9'>10</a>\u001b[0m preprocessor \u001b[39m=\u001b[39m PerceiverImagePreprocessor(\n\u001b[1;32m     <a href='vscode-notebook-cell:/Users/stefanbroecker/Documents/ECS289G/pretrained_positional_embeddings/run_perceiver_w_tagkop_encoder_imdb.ipynb#X13sZmlsZQ%3D%3D?line=10'>11</a>\u001b[0m     config,\n\u001b[1;32m     <a href='vscode-notebook-cell:/Users/stefanbroecker/Documents/ECS289G/pretrained_positional_embeddings/run_perceiver_w_tagkop_encoder_imdb.ipynb#X13sZmlsZQ%3D%3D?line=11'>12</a>\u001b[0m     in_channels\u001b[39m=\u001b[39;49m\u001b[39m1\u001b[39;49m,\n\u001b[1;32m     <a href='vscode-notebook-cell:/Users/stefanbroecker/Documents/ECS289G/pretrained_positional_embeddings/run_perceiver_w_tagkop_encoder_imdb.ipynb#X13sZmlsZQ%3D%3D?line=12'>13</a>\u001b[0m     prep_type\u001b[39m=\u001b[39;49m\u001b[39m\"\u001b[39;49m\u001b[39m1d\u001b[39;49m\u001b[39m\"\u001b[39;49m,\n\u001b[1;32m     <a href='vscode-notebook-cell:/Users/stefanbroecker/Documents/ECS289G/pretrained_positional_embeddings/run_perceiver_w_tagkop_encoder_imdb.ipynb#X13sZmlsZQ%3D%3D?line=13'>14</a>\u001b[0m     spatial_downsample\u001b[39m=\u001b[39;49m\u001b[39m1\u001b[39;49m,\n\u001b[1;32m     <a href='vscode-notebook-cell:/Users/stefanbroecker/Documents/ECS289G/pretrained_positional_embeddings/run_perceiver_w_tagkop_encoder_imdb.ipynb#X13sZmlsZQ%3D%3D?line=14'>15</a>\u001b[0m     out_channels\u001b[39m=\u001b[39;49m\u001b[39m64\u001b[39;49m,\n\u001b[1;32m     <a href='vscode-notebook-cell:/Users/stefanbroecker/Documents/ECS289G/pretrained_positional_embeddings/run_perceiver_w_tagkop_encoder_imdb.ipynb#X13sZmlsZQ%3D%3D?line=15'>16</a>\u001b[0m     position_encoding_type\u001b[39m=\u001b[39;49m\u001b[39m\"\u001b[39;49m\u001b[39mfourier\u001b[39;49m\u001b[39m\"\u001b[39;49m,\n\u001b[1;32m     <a href='vscode-notebook-cell:/Users/stefanbroecker/Documents/ECS289G/pretrained_positional_embeddings/run_perceiver_w_tagkop_encoder_imdb.ipynb#X13sZmlsZQ%3D%3D?line=16'>17</a>\u001b[0m     concat_or_add_pos\u001b[39m=\u001b[39;49m\u001b[39m\"\u001b[39;49m\u001b[39mconcat\u001b[39;49m\u001b[39m\"\u001b[39;49m,\n\u001b[1;32m     <a href='vscode-notebook-cell:/Users/stefanbroecker/Documents/ECS289G/pretrained_positional_embeddings/run_perceiver_w_tagkop_encoder_imdb.ipynb#X13sZmlsZQ%3D%3D?line=17'>18</a>\u001b[0m     project_pos_dim\u001b[39m=\u001b[39;49m\u001b[39m64\u001b[39;49m,\n\u001b[1;32m     <a href='vscode-notebook-cell:/Users/stefanbroecker/Documents/ECS289G/pretrained_positional_embeddings/run_perceiver_w_tagkop_encoder_imdb.ipynb#X13sZmlsZQ%3D%3D?line=18'>19</a>\u001b[0m     tagkop_position_encoding_kwargs\u001b[39m=\u001b[39;49m\u001b[39mdict\u001b[39;49m(\n\u001b[1;32m     <a href='vscode-notebook-cell:/Users/stefanbroecker/Documents/ECS289G/pretrained_positional_embeddings/run_perceiver_w_tagkop_encoder_imdb.ipynb#X13sZmlsZQ%3D%3D?line=19'>20</a>\u001b[0m         num_channels\u001b[39m=\u001b[39;49m\u001b[39m64\u001b[39;49m,\n\u001b[1;32m     <a href='vscode-notebook-cell:/Users/stefanbroecker/Documents/ECS289G/pretrained_positional_embeddings/run_perceiver_w_tagkop_encoder_imdb.ipynb#X13sZmlsZQ%3D%3D?line=20'>21</a>\u001b[0m         index_dims\u001b[39m=\u001b[39;49mconfig\u001b[39m.\u001b[39;49mimage_size\u001b[39m*\u001b[39;49m\u001b[39m*\u001b[39;49m\u001b[39m2\u001b[39;49m,\n\u001b[1;32m     <a href='vscode-notebook-cell:/Users/stefanbroecker/Documents/ECS289G/pretrained_positional_embeddings/run_perceiver_w_tagkop_encoder_imdb.ipynb#X13sZmlsZQ%3D%3D?line=21'>22</a>\u001b[0m         ds\u001b[39m=\u001b[39;49m\u001b[39m\"\u001b[39;49m\u001b[39mimdb\u001b[39;49m\u001b[39m\"\u001b[39;49m\n\u001b[1;32m     <a href='vscode-notebook-cell:/Users/stefanbroecker/Documents/ECS289G/pretrained_positional_embeddings/run_perceiver_w_tagkop_encoder_imdb.ipynb#X13sZmlsZQ%3D%3D?line=22'>23</a>\u001b[0m     ),\n\u001b[1;32m     <a href='vscode-notebook-cell:/Users/stefanbroecker/Documents/ECS289G/pretrained_positional_embeddings/run_perceiver_w_tagkop_encoder_imdb.ipynb#X13sZmlsZQ%3D%3D?line=23'>24</a>\u001b[0m )\n\u001b[1;32m     <a href='vscode-notebook-cell:/Users/stefanbroecker/Documents/ECS289G/pretrained_positional_embeddings/run_perceiver_w_tagkop_encoder_imdb.ipynb#X13sZmlsZQ%3D%3D?line=25'>26</a>\u001b[0m modely \u001b[39m=\u001b[39m PerceiverModel(\n\u001b[1;32m     <a href='vscode-notebook-cell:/Users/stefanbroecker/Documents/ECS289G/pretrained_positional_embeddings/run_perceiver_w_tagkop_encoder_imdb.ipynb#X13sZmlsZQ%3D%3D?line=26'>27</a>\u001b[0m     config,\n\u001b[1;32m     <a href='vscode-notebook-cell:/Users/stefanbroecker/Documents/ECS289G/pretrained_positional_embeddings/run_perceiver_w_tagkop_encoder_imdb.ipynb#X13sZmlsZQ%3D%3D?line=27'>28</a>\u001b[0m     input_preprocessor\u001b[39m=\u001b[39mpreprocessor,\n\u001b[0;32m   (...)\u001b[0m\n\u001b[1;32m     <a href='vscode-notebook-cell:/Users/stefanbroecker/Documents/ECS289G/pretrained_positional_embeddings/run_perceiver_w_tagkop_encoder_imdb.ipynb#X13sZmlsZQ%3D%3D?line=33'>34</a>\u001b[0m     ),\n\u001b[1;32m     <a href='vscode-notebook-cell:/Users/stefanbroecker/Documents/ECS289G/pretrained_positional_embeddings/run_perceiver_w_tagkop_encoder_imdb.ipynb#X13sZmlsZQ%3D%3D?line=34'>35</a>\u001b[0m )\n\u001b[1;32m     <a href='vscode-notebook-cell:/Users/stefanbroecker/Documents/ECS289G/pretrained_positional_embeddings/run_perceiver_w_tagkop_encoder_imdb.ipynb#X13sZmlsZQ%3D%3D?line=36'>37</a>\u001b[0m modely\u001b[39m.\u001b[39mto(device)\n",
      "File \u001b[0;32m~/Documents/ECS289G/pretrained_positional_embeddings/tagkop_encoding_functions.py:204\u001b[0m, in \u001b[0;36mPerceiverImagePreprocessor.__init__\u001b[0;34m(self, config, prep_type, spatial_downsample, temporal_downsample, position_encoding_type, in_channels, out_channels, conv_after_patching, conv_after_patching_in_channels, conv2d_use_batchnorm, concat_or_add_pos, project_pos_dim, **position_encoding_kwargs)\u001b[0m\n\u001b[1;32m    202\u001b[0m \u001b[39m# Position embeddings\u001b[39;00m\n\u001b[1;32m    203\u001b[0m \u001b[39mself\u001b[39m\u001b[39m.\u001b[39mproject_pos_dim \u001b[39m=\u001b[39m project_pos_dim\n\u001b[0;32m--> 204\u001b[0m \u001b[39mself\u001b[39m\u001b[39m.\u001b[39mposition_embeddings, \u001b[39mself\u001b[39m\u001b[39m.\u001b[39mpositions_projection \u001b[39m=\u001b[39m build_position_encoding_t(\n\u001b[1;32m    205\u001b[0m     position_encoding_type\u001b[39m=\u001b[39;49mposition_encoding_type,\n\u001b[1;32m    206\u001b[0m     out_channels\u001b[39m=\u001b[39;49mout_channels,\n\u001b[1;32m    207\u001b[0m     project_pos_dim\u001b[39m=\u001b[39;49mproject_pos_dim,\n\u001b[1;32m    208\u001b[0m     \u001b[39m*\u001b[39;49m\u001b[39m*\u001b[39;49mposition_encoding_kwargs,\n\u001b[1;32m    209\u001b[0m )\n\u001b[1;32m    211\u001b[0m \u001b[39m# Optional convolutional layer after patches.\u001b[39;00m\n\u001b[1;32m    212\u001b[0m \u001b[39mself\u001b[39m\u001b[39m.\u001b[39mconv_after_patches \u001b[39m=\u001b[39m (\n\u001b[1;32m    213\u001b[0m     nn\u001b[39m.\u001b[39mLinear(conv_after_patching_in_channels, \u001b[39mself\u001b[39m\u001b[39m.\u001b[39mout_channels) \u001b[39mif\u001b[39;00m conv_after_patching \u001b[39melse\u001b[39;00m nn\u001b[39m.\u001b[39mIdentity()\n\u001b[1;32m    214\u001b[0m )\n",
      "File \u001b[0;32m~/Documents/ECS289G/pretrained_positional_embeddings/tagkop_encoding_functions.py:90\u001b[0m, in \u001b[0;36mbuild_position_encoding_t\u001b[0;34m(position_encoding_type, out_channels, project_pos_dim, trainable_position_encoding_kwargs, fourier_position_encoding_kwargs, tagkop_position_encoding_kwargs)\u001b[0m\n\u001b[1;32m     87\u001b[0m \u001b[39melif\u001b[39;00m position_encoding_type \u001b[39m==\u001b[39m \u001b[39m\"\u001b[39m\u001b[39mfourier\u001b[39m\u001b[39m\"\u001b[39m:\n\u001b[1;32m     88\u001b[0m     \u001b[39m# We don't use the index_dims argument, as this is only known during the forward pass\u001b[39;00m\n\u001b[1;32m     89\u001b[0m     \u001b[39mif\u001b[39;00m \u001b[39mnot\u001b[39;00m fourier_position_encoding_kwargs:\n\u001b[0;32m---> 90\u001b[0m         \u001b[39mraise\u001b[39;00m \u001b[39mValueError\u001b[39;00m(\u001b[39m\"\u001b[39m\u001b[39mMake sure to pass fourier_position_encoding_kwargs\u001b[39m\u001b[39m\"\u001b[39m)\n\u001b[1;32m     91\u001b[0m     output_pos_enc \u001b[39m=\u001b[39m PerceiverFourierPositionEncoding(\u001b[39m*\u001b[39m\u001b[39m*\u001b[39mfourier_position_encoding_kwargs)\n\u001b[1;32m     92\u001b[0m \u001b[39melif\u001b[39;00m position_encoding_type \u001b[39m==\u001b[39m \u001b[39m\"\u001b[39m\u001b[39mtagkop\u001b[39m\u001b[39m\"\u001b[39m:\n\u001b[1;32m     93\u001b[0m     \u001b[39m# We don't use the index_dims argument, as this is only known during the forward pass\u001b[39;00m\n",
      "\u001b[0;31mValueError\u001b[0m: Make sure to pass fourier_position_encoding_kwargs"
     ]
    }
   ],
   "source": [
    "config = PerceiverConfig(image_size=2048,\n",
    "                        num_self_attends_per_block = 1,\n",
    "                        num_cross_attention_heads = 1,\n",
    "                        use_labels=True,\n",
    "                        num_labels=2,\n",
    "                        num_latents=10,\n",
    "                        ignore_mismatched_sizes=True\n",
    "                        )\n",
    "\n",
    "preprocessor = PerceiverImagePreprocessor(\n",
    "    config,\n",
    "    in_channels=1,\n",
    "    prep_type=\"1d\",\n",
    "    spatial_downsample=1,\n",
    "    out_channels=64,\n",
    "    position_encoding_type=\"fourier\",\n",
    "    concat_or_add_pos=\"concat\",\n",
    "    project_pos_dim=64,\n",
    "    tagkop_position_encoding_kwargs=dict(\n",
    "        num_channels=64,\n",
    "        index_dims=config.image_size**2,\n",
    "        ds=\"imdb\"\n",
    "    ),\n",
    "    trainable_position_encoding_kwargs=dict(\n",
    "        num_channels=64,\n",
    "        index_dims=2048,\n",
    "    )\n",
    ")\n",
    "\n",
    "modely = PerceiverModel(\n",
    "    config,\n",
    "    input_preprocessor=preprocessor,\n",
    "    decoder=PerceiverClassificationDecoder(\n",
    "        config,\n",
    "        num_channels=config.d_latents,\n",
    "        trainable_position_encoding_kwargs=dict(num_channels=config.d_latents, index_dims=2048),\n",
    "        use_query_residual=True,\n",
    "    ),\n",
    ")\n",
    "\n",
    "modely.to(device)\n",
    "\n",
    "print('model: ', modely)"
   ]
  },
  {
   "cell_type": "code",
   "execution_count": 5,
   "metadata": {},
   "outputs": [
    {
     "data": {
      "application/vnd.jupyter.widget-view+json": {
       "model_id": "b2ffb1413cec4b69bfd356faeffd915f",
       "version_major": 2,
       "version_minor": 0
      },
      "text/plain": [
       "  0%|          | 0/2250 [00:00<?, ?it/s]"
      ]
     },
     "metadata": {},
     "output_type": "display_data"
    },
    {
     "name": "stdout",
     "output_type": "stream",
     "text": [
      "using imdb dataset\n"
     ]
    }
   ],
   "source": [
    "from torch.optim import AdamW\n",
    "from tqdm.notebook import tqdm\n",
    "from sklearn.metrics import accuracy_score\n",
    "\n",
    "optimizer = AdamW(modely.parameters(), lr=5e-5)\n",
    "\n",
    "modely.train()\n",
    "for epoch in range(10):\n",
    "    for batch in tqdm(train_dataloader):\n",
    "        # get the inputs; \n",
    "        inputs = batch[\"input_ids\"].to(device)\n",
    "        labels = batch[\"label\"].to(device)\n",
    "\n",
    "        # zero the parameter gradients\n",
    "        optimizer.zero_grad()\n",
    "\n",
    "        # forward + backward + optimize\n",
    "        outputs = modely(inputs=inputs.unsqueeze(1))\n",
    "        logits = outputs.logits\n",
    "\n",
    "        criterion = torch.nn.CrossEntropyLoss()\n",
    "\n",
    "        loss = criterion(logits, labels)\n",
    "        loss.backward()\n",
    "        optimizer.step()\n",
    "\n",
    "        predictions = outputs.logits.argmax(-1).cpu().detach().numpy()\n",
    "        accuracy = accuracy_score(y_true=batch[\"labels\"].numpy(), y_pred=predictions)\n",
    "        print(f\"Loss: {loss.item()}, Accuracy: {accuracy}\")\n",
    "\n",
    "    predictions = outputs.logits.argmax(-1).cpu().detach().numpy()\n",
    "    accuracy = accuracy_score(y_true=batch[\"labels\"].numpy(), y_pred=predictions)\n",
    "    print(f\"Loss: {loss.item()}, Accuracy: {accuracy}\")\n",
    "    \n",
    "    "
   ]
  },
  {
   "cell_type": "code",
   "execution_count": 42,
   "metadata": {},
   "outputs": [
    {
     "data": {
      "text/plain": [
       "tensor([[0.2434, 0.1588, 0.2429,  ..., 0.6478, 0.3624, 0.6247],\n",
       "        [0.6009, 0.5922, 0.6268,  ..., 0.4393, 0.5885, 0.2374],\n",
       "        [0.4238, 0.3586, 0.3466,  ..., 0.6571, 0.4455, 0.5175],\n",
       "        ...,\n",
       "        [0.7835, 0.6469, 0.7396,  ..., 0.6279, 0.5293, 0.3062],\n",
       "        [0.5141, 0.7340, 0.8714,  ..., 0.4092, 0.4067, 0.6409],\n",
       "        [0.5145, 0.5653, 0.9037,  ..., 0.3732, 0.7541, 0.2014]])"
      ]
     },
     "execution_count": 42,
     "metadata": {},
     "output_type": "execute_result"
    }
   ],
   "source": [
    "imdb_encodings = torch.from_numpy(torch.load(\"pos_embeddings_IMDB_tSNE_2048x64.pth\"))\n",
    "(imdb_encodings - torch.min(imdb_encodings, dim=0).values) / (torch.max(imdb_encodings, dim=0).values - torch.min(imdb_encodings, dim=0).values)"
   ]
  },
  {
   "cell_type": "code",
   "execution_count": null,
   "metadata": {},
   "outputs": [],
   "source": []
  }
 ],
 "metadata": {
  "kernelspec": {
   "display_name": "Python 3 (ipykernel)",
   "language": "python",
   "name": "python3"
  },
  "language_info": {
   "codemirror_mode": {
    "name": "ipython",
    "version": 3
   },
   "file_extension": ".py",
   "mimetype": "text/x-python",
   "name": "python",
   "nbconvert_exporter": "python",
   "pygments_lexer": "ipython3",
   "version": "3.10.6"
  },
  "vscode": {
   "interpreter": {
    "hash": "949777d72b0d2535278d3dc13498b2535136f6dfe0678499012e853ee9abcab1"
   }
  }
 },
 "nbformat": 4,
 "nbformat_minor": 4
}
