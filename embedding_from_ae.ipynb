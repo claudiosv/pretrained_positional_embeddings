{
 "cells": [
  {
   "cell_type": "code",
   "execution_count": 2,
   "metadata": {},
   "outputs": [
    {
     "name": "stderr",
     "output_type": "stream",
     "text": [
      "/usr/local/lib/python3.9/site-packages/tqdm/auto.py:22: TqdmWarning: IProgress not found. Please update jupyter and ipywidgets. See https://ipywidgets.readthedocs.io/en/stable/user_install.html\n",
      "  from .autonotebook import tqdm as notebook_tqdm\n"
     ]
    }
   ],
   "source": [
    "from auto_encoder import AutoEncoder\n",
    "from masked_dataset import CIFAR10DataModule\n",
    "import torch\n",
    "from torch import nn\n",
    "from torch.nn import functional as F\n",
    "%load_ext autoreload\n",
    "%autoreload 2"
   ]
  },
  {
   "cell_type": "code",
   "execution_count": 3,
   "metadata": {},
   "outputs": [
    {
     "name": "stderr",
     "output_type": "stream",
     "text": [
      "Found cached dataset cifar10 (/Users/stefanbroecker/.cache/huggingface/datasets/cifar10/plain_text/1.0.0/447d6ec4733dddd1ce3bb577c7166b986eaa4c538dcd9e805ba61f35674a9de4)\n",
      "100%|██████████| 2/2 [00:00<00:00, 181.39it/s]\n"
     ]
    },
    {
     "data": {
      "text/plain": [
       "<All keys matched successfully>"
      ]
     },
     "execution_count": 3,
     "metadata": {},
     "output_type": "execute_result"
    }
   ],
   "source": [
    "cifar10 = CIFAR10DataModule()\n",
    "cifar10.setup(\"nothing\")\n",
    "cifar10_train = cifar10.train_dataloader()\n",
    "\n",
    "in_channel_size = 3\n",
    "num_epochs = 10\n",
    "model = AutoEncoder(in_channel_size=3)\n",
    "model.eval()\n",
    "\n",
    "checkpoint = torch.load(\"last.ckpt\", map_location=torch.device(\"cpu\"))\n",
    "model.load_state_dict(checkpoint[\"state_dict\"])\n"
   ]
  },
  {
   "cell_type": "code",
   "execution_count": 42,
   "metadata": {},
   "outputs": [],
   "source": [
    "original_size = 224*224\n",
    "batch_size = 32\n",
    "\n",
    "mseloss = nn.MSELoss(reduction=\"none\")\n",
    "weights = torch.zeros([original_size, 2, original_size])\n",
    "iterator = torch.ones(original_size)"
   ]
  },
  {
   "cell_type": "code",
   "execution_count": 46,
   "metadata": {},
   "outputs": [],
   "source": [
    "for batch_idx, (masked, full, indices) in enumerate(cifar10_train):\n",
    "    # masked = masked.to(\"cpu\")\n",
    "    # pass the sampled data to the model\n",
    "    prediction = model(masked)\n",
    "    # go through each image in the current batch\n",
    "    for i in range(batch_size):\n",
    "        # get loss per pixel across all channels\n",
    "        loss = mseloss(prediction[i], full[i])\n",
    "        single_loss = torch.sum(loss, dim=0)\n",
    "        # get the indices that were in the sample\n",
    "        idxs = indices[i]\n",
    "        # add the losses to the index's loss tracker\n",
    "        # iterate the number of samples seen\n",
    "        weights[idxs, 0] += single_loss\n",
    "        weights[idxs, 1] += iterator\n",
    "\n",
    "# total loss / number of times seen\n",
    "average_weight = weights[:, 0, :]/weights[:, 1, :]\n",
    "\n",
    "# normalize across rows\n",
    "normalized_weights = F.normalize(average_weight, dim=0)\n",
    "\n",
    "torch.save(normalized_weights, \"embedding_tensor.pth\")"
   ]
  },
  {
   "cell_type": "code",
   "execution_count": 53,
   "metadata": {},
   "outputs": [
    {
     "data": {
      "text/plain": [
       "tensor([0.0000e+00, 9.6524e-06, 5.3889e-05,  ..., 1.6864e+01, 1.6927e+01,\n",
       "        1.7012e+01], grad_fn=<Unique2Backward0>)"
      ]
     },
     "execution_count": 53,
     "metadata": {},
     "output_type": "execute_result"
    }
   ],
   "source": [
    "weights[:, 0, :].unique()"
   ]
  },
  {
   "cell_type": "code",
   "execution_count": 31,
   "metadata": {},
   "outputs": [],
   "source": []
  },
  {
   "cell_type": "code",
   "execution_count": 39,
   "metadata": {},
   "outputs": [],
   "source": []
  },
  {
   "cell_type": "code",
   "execution_count": 40,
   "metadata": {},
   "outputs": [
    {
     "data": {
      "text/plain": [
       "torch.Size([50176])"
      ]
     },
     "execution_count": 40,
     "metadata": {},
     "output_type": "execute_result"
    }
   ],
   "source": []
  },
  {
   "cell_type": "code",
   "execution_count": null,
   "metadata": {},
   "outputs": [],
   "source": []
  }
 ],
 "metadata": {
  "kernelspec": {
   "display_name": "Python 3.9.6 64-bit",
   "language": "python",
   "name": "python3"
  },
  "language_info": {
   "codemirror_mode": {
    "name": "ipython",
    "version": 3
   },
   "file_extension": ".py",
   "mimetype": "text/x-python",
   "name": "python",
   "nbconvert_exporter": "python",
   "pygments_lexer": "ipython3",
   "version": "3.9.6"
  },
  "orig_nbformat": 4,
  "vscode": {
   "interpreter": {
    "hash": "949777d72b0d2535278d3dc13498b2535136f6dfe0678499012e853ee9abcab1"
   }
  }
 },
 "nbformat": 4,
 "nbformat_minor": 2
}
