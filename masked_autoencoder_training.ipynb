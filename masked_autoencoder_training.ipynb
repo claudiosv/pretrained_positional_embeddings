{
 "cells": [
  {
   "cell_type": "code",
   "execution_count": 1,
   "metadata": {},
   "outputs": [],
   "source": [
    "from auto_encoder import AutoEncoder\n",
    "from masked_dataset import CIFAR10DataModule, IMDBDataModule\n",
    "import pytorch_lightning as pl\n",
    "from pytorch_lightning.callbacks import LearningRateMonitor, ModelCheckpoint\n",
    "from pytorch_lightning.callbacks.early_stopping import EarlyStopping\n",
    "import os\n",
    "from pytorch_lightning.loggers import TensorBoardLogger\n",
    "%load_ext autoreload\n",
    "%autoreload 2"
   ]
  },
  {
   "cell_type": "code",
   "execution_count": 2,
   "metadata": {},
   "outputs": [],
   "source": [
    "cifar10 = CIFAR10DataModule()"
   ]
  },
  {
   "cell_type": "code",
   "execution_count": 3,
   "metadata": {},
   "outputs": [
    {
     "name": "stderr",
     "output_type": "stream",
     "text": [
      "GPU available: False, used: False\n",
      "TPU available: False, using: 0 TPU cores\n",
      "IPU available: False, using: 0 IPUs\n",
      "HPU available: False, using: 0 HPUs\n"
     ]
    }
   ],
   "source": [
    "in_channel_size = 3\n",
    "num_epochs = 10\n",
    "model = AutoEncoder(in_channel_size=3)\n",
    "\n",
    "trainer = pl.Trainer(\n",
    "    default_root_dir=os.getcwd(),\n",
    "    logger=TensorBoardLogger(save_dir=os.getcwd(), version=1, name=\"lightning_logs\"),\n",
    "    auto_lr_find=True, \n",
    "    auto_scale_batch_size=True, \n",
    "    accelerator=\"auto\",\n",
    "    log_every_n_steps=1, \n",
    "    max_epochs=50, \n",
    "    min_epochs=10,\n",
    "    callbacks=[\n",
    "        ModelCheckpoint(save_last=True),\n",
    "        LearningRateMonitor(\"epoch\"),\n",
    "        EarlyStopping(monitor=\"val_loss\", mode=\"min\", patience=5)\n",
    "    ])\n",
    "trainer.logger._log_graph = True"
   ]
  },
  {
   "cell_type": "code",
   "execution_count": 4,
   "metadata": {},
   "outputs": [
    {
     "name": "stderr",
     "output_type": "stream",
     "text": [
      "Found cached dataset cifar10 (/Users/barissen/.cache/huggingface/datasets/cifar10/plain_text/1.0.0/447d6ec4733dddd1ce3bb577c7166b986eaa4c538dcd9e805ba61f35674a9de4)\n"
     ]
    },
    {
     "data": {
      "application/vnd.jupyter.widget-view+json": {
       "model_id": "de50509a9dda45eab2b949a65474f971",
       "version_major": 2,
       "version_minor": 0
      },
      "text/plain": [
       "  0%|          | 0/2 [00:00<?, ?it/s]"
      ]
     },
     "metadata": {},
     "output_type": "display_data"
    }
   ],
   "source": [
    "# Basic hyperparameter tuning\n",
    "trainer.tune(model, cifar10)"
   ]
  },
  {
   "cell_type": "code",
   "execution_count": null,
   "metadata": {},
   "outputs": [],
   "source": [
    "# Run the training\n",
    "trainer.fit(model, cifar10)"
   ]
  }
 ],
 "metadata": {
  "kernelspec": {
   "display_name": "Python 3.9.2 ('ml3d')",
   "language": "python",
   "name": "python3"
  },
  "language_info": {
   "codemirror_mode": {
    "name": "ipython",
    "version": 3
   },
   "file_extension": ".py",
   "mimetype": "text/x-python",
   "name": "python",
   "nbconvert_exporter": "python",
   "pygments_lexer": "ipython3",
   "version": "3.9.2"
  },
  "orig_nbformat": 4,
  "vscode": {
   "interpreter": {
    "hash": "cc0c8797f89a6d69e35298ae4709fccbe5e161afe95a021e6d382944c3c823f0"
   }
  }
 },
 "nbformat": 4,
 "nbformat_minor": 2
}
